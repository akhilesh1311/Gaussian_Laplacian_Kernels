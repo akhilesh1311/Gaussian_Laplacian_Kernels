{
 "cells": [
  {
   "cell_type": "code",
   "execution_count": 153,
   "metadata": {},
   "outputs": [],
   "source": [
    "from scipy import io\n",
    "import pandas as pd\n",
    "import matplotlib.pyplot as plt\n",
    "from sympy import *\n",
    "import numpy as np\n",
    "import mpmath as mp"
   ]
  },
  {
   "cell_type": "code",
   "execution_count": 154,
   "metadata": {},
   "outputs": [
    {
     "data": {
      "text/plain": [
       "[<matplotlib.lines.Line2D at 0x7f01313b5400>]"
      ]
     },
     "execution_count": 154,
     "metadata": {},
     "output_type": "execute_result"
    },
    {
     "data": {
      "image/png": "[encoded data removed]",
      "text/plain": [
       "<matplotlib.figure.Figure at 0x7f014036fbe0>"
      ]
     },
     "metadata": {},
     "output_type": "display_data"
    }
   ],
   "source": [
    "mat = io.loadmat(\"data3-2.mat\")\n",
    "circles = mat['circles']\n",
    "stars = mat['stars']\n",
    "s_pd = pd.DataFrame(stars, columns=['x', 'y'])\n",
    "c_pd = pd.DataFrame(circles, columns=['x', 'y'])\n",
    "s_pd['Label'] = 1\n",
    "c_pd['Label'] = -1\n",
    "data = pd.concat([s_pd, c_pd])\n",
    "data = data.reset_index()\n",
    "plt.figure(figsize=(15, 10))\n",
    "plt.plot(s_pd['x'], s_pd['y'], \"*\")\n",
    "plt.plot(c_pd['x'], c_pd['y'], \"o\")"
   ]
  },
  {
   "cell_type": "code",
   "execution_count": 161,
   "metadata": {},
   "outputs": [],
   "source": [
    "def formulate_gaussian_kernel(h, x, x_):\n",
    "  exponent = -((x[0] - x_[0])**2 + (x[1] - x_[1])**2)/(h)\n",
    "  numerator = mp.e**exponent\n",
    "  return numerator\n",
    "\n",
    "def formulate_simple_kernel(x, x_):\n",
    "    ans = 1 + x[0]*x_[0] + x[1]*x_[1]\n",
    "    return ans**2\n",
    "\n",
    "def compute_coefficients(data, regularizer, h=1, kernel_type=\"Gaussian\"):\n",
    "  k = np.zeros((len(data), len(data)))\n",
    "  if kernel_type == \"Gaussian\":\n",
    "    for i in range(0, len(data)):\n",
    "      for j in range(0, len(data)):\n",
    "        k[i][j] = formulate_gaussian_kernel(h, (data.iloc[i]['x'], data.iloc[i]['y']), \\\n",
    "                                          (data.iloc[j]['x'], data.iloc[j]['y']))\n",
    "  elif kernel_type == \"Simple\":\n",
    "    for i in range(0, len(data)):\n",
    "      for j in range(0, len(data)):\n",
    "        k[i][j] = formulate_simple_kernel((data.iloc[i]['x'], data.iloc[i]['y']), \\\n",
    "                                        (data.iloc[j]['x'], data.iloc[j]['y']))\n",
    "\n",
    "  regularizer_identity = regularizer * np.identity(len(data))\n",
    "  inverse = np.linalg.inv(regularizer_identity + k)\n",
    "  label = np.array(data['Label']).reshape((-1, 1))\n",
    "  return np.matmul(inverse, label)\n",
    "\n",
    "def compute_gaussian_kernel(h, x_):\n",
    "    x = Symbol('x', real=True)\n",
    "    y = Symbol('y', real=True)\n",
    "    exponent = -((x - x_[0]) ** 2 + (y - x_[1]) ** 2) / (h)\n",
    "    numerator = mp.e**exponent\n",
    "    return sympify(numerator)\n",
    "\n",
    "\n",
    "def compute_simple_kernel(x_):\n",
    "  x = Symbol('x', real=True)\n",
    "  y = Symbol('y', real=True)\n",
    "  ans = 1 + x * x_[0] + y * x_[1]\n",
    "  return ans ** 2\n",
    "\n",
    "def separating_boundary_function(coefficients, h=1, kernel_type=\"Gaussian\"):\n",
    "    g_x = 0\n",
    "    x = Symbol('x', real=True)\n",
    "    y = Symbol('y', real=True)\n",
    "    if kernel_type == \"Gaussian\":\n",
    "      for i in range(0, len(data)):\n",
    "        g_x = g_x + coefficients[i] * \\\n",
    "              compute_gaussian_kernel(h, (data.iloc[i]['x'], data.iloc[i]['y']))\n",
    "    elif kernel_type == \"Simple\":\n",
    "      for i in range(0, len(data)):\n",
    "        g_x = g_x + coefficients[i] * \\\n",
    "              compute_simple_kernel((data.iloc[i]['x'], data.iloc[i]['y']))\n",
    "    return sympify(g_x)[0]\n",
    "\n",
    "\n",
    "def plot_boundary(data, regularizer=0.1, h=1, \\\n",
    "                  support_x=(-1.25, 1.25), support_y=(-0.5, 1.5), kernel_type=\"Gaussian\", margin=0.01):\n",
    "    precision = 10\n",
    "    a = compute_coefficients(data, regularizer, h, kernel_type)\n",
    "    g_x = separating_boundary_function(a, h, kernel_type)\n",
    "    x = Symbol('x', real=True)\n",
    "    y = Symbol('y', real=True)\n",
    "#     y_val = [solve(g_x.subs({x:(x_ / precision)})) \\\n",
    "#            for x_ in range(int(support_x[0] * precision), int(support_x[1] * precision), 1)]\n",
    "#     x_axis = [x_ / precision \\\n",
    "#             for x_ in range(int(support_x[0] * precision), \\\n",
    "#                                            int(support_x[1] * precision), 1)]\n",
    "\n",
    "    y_val = []\n",
    "    x_axis = []\n",
    "    for x_ in range(int(support_x[0]*precision), int(support_x[1]*precision), 1):\n",
    "        for y_ in range(int(support_y[0]*precision), int(support_y[1]*precision), 1):\n",
    "            if Abs(g_x.subs({x:x_/precision, y:y_/precision})) < margin:\n",
    "                y_val.append(y_/precision)\n",
    "                x_axis.append(x_/precision)\n",
    "                break\n",
    "                \n",
    "    plt.figure(figsize=(15, 10))\n",
    "    plt.plot(s_pd['x'], s_pd['y'], \"*\")\n",
    "    plt.plot(c_pd['x'], c_pd['y'], \"o\")    \n",
    "    plt.plot(x_axis, y_val, \"-o\", label=\"boundary\")\n",
    "    plt.legend()\n",
    "    return g_x"
   ]
  },
  {
   "cell_type": "code",
   "execution_count": 162,
   "metadata": {},
   "outputs": [
    {
     "name": "stdout",
     "output_type": "stream",
     "text": [
      "[-5.0, -5.0, -5.0, -5.0, -5.0, -5.0, -5.0, -5.0, -5.0, -5.0, -5.0, -5.0, -5.0, -5.0, -5.0, -5.0, -5.0, -5.0, -5.0, -5.0, -5.0, -5.0, -5.0, -5.0, -5.0, -5.0, -5.0, -5.0, -5.0, -5.0, -5.0, -5.0, -5.0, -5.0, -5.0, -5.0, -5.0, -5.0, -5.0, -5.0, -5.0, -5.0, -5.0, -5.0, -5.0, -5.0, -5.0, -5.0, -5.0, -5.0, -5.0, -5.0, -5.0, -5.0, -5.0, -5.0, -5.0, -5.0, -5.0, -5.0, -5.0, -5.0, -5.0, -5.0, -5.0, -5.0, -5.0, -5.0, -5.0, -5.0, -5.0, -5.0, -5.0, -5.0, -5.0, -5.0, -5.0, -5.0, -5.0, -5.0, -5.0, -5.0, -5.0, -5.0, -5.0, -5.0, -5.0, -5.0, -5.0, -5.0, -5.0, -5.0, -5.0, -5.0, -5.0, -5.0, -5.0, -5.0, -5.0, -5.0, -5.0, -5.0, -5.0, -5.0, -5.0, -5.0, -5.0, -5.0, -5.0, -5.0, -5.0, -5.0, -5.0, -5.0, -5.0, -5.0, -5.0, -5.0, -5.0, -5.0, -5.0, -5.0, -5.0, -5.0, -5.0, -5.0, -5.0, -5.0, -5.0, -5.0, -5.0, -5.0, -5.0, -5.0, -5.0, -5.0, -5.0, -5.0, -5.0, -5.0, -5.0, -5.0, -5.0, -5.0, -5.0, -5.0, -5.0, -5.0, -5.0, -5.0, -5.0, -5.0, -5.0, -5.0, -5.0, -5.0, -5.0, -5.0, -5.0, -5.0, -5.0, -5.0, -5.0, -5.0, -5.0, -5.0, -5.0, -5.0, -5.0, -5.0, -5.0, -5.0, -5.0, -5.0, -5.0, -5.0, -5.0, -5.0, -5.0, -5.0, -5.0, -5.0, -5.0, -5.0, -5.0, -5.0, -5.0, -5.0, -5.0, -5.0, -5.0, -5.0, -5.0, -5.0, -5.0, -5.0, -5.0, -5.0, -5.0, -5.0]\n"
     ]
    },
    {
     "ename": "TypeError",
     "evalue": "'Add' object does not support indexing",
     "output_type": "error",
     "traceback": [
      "\u001b[0;31m---------------------------------------------------------------------------\u001b[0m",
      "\u001b[0;31mTypeError\u001b[0m                                 Traceback (most recent call last)",
      "\u001b[0;32m<ipython-input-162-251264e91a7c>\u001b[0m in \u001b[0;36m<module>\u001b[0;34m()\u001b[0m\n\u001b[0;32m----> 1\u001b[0;31m \u001b[0mg_x\u001b[0m \u001b[0;34m=\u001b[0m \u001b[0mplot_boundary\u001b[0m\u001b[0;34m(\u001b[0m\u001b[0mdata\u001b[0m\u001b[0;34m,\u001b[0m \u001b[0msupport_x\u001b[0m\u001b[0;34m=\u001b[0m\u001b[0;34m(\u001b[0m\u001b[0;34m-\u001b[0m\u001b[0;36m10\u001b[0m\u001b[0;34m,\u001b[0m \u001b[0;36m10\u001b[0m\u001b[0;34m)\u001b[0m\u001b[0;34m,\u001b[0m \u001b[0msupport_y\u001b[0m\u001b[0;34m=\u001b[0m\u001b[0;34m(\u001b[0m\u001b[0;34m-\u001b[0m\u001b[0;36m5\u001b[0m\u001b[0;34m,\u001b[0m \u001b[0;36m5\u001b[0m\u001b[0;34m)\u001b[0m\u001b[0;34m,\u001b[0m \u001b[0mmargin\u001b[0m\u001b[0;34m=\u001b[0m\u001b[0;36m0.0001\u001b[0m\u001b[0;34m,\u001b[0m \u001b[0mh\u001b[0m\u001b[0;34m=\u001b[0m\u001b[0;36m0.01\u001b[0m\u001b[0;34m,\u001b[0m \u001b[0mregularizer\u001b[0m\u001b[0;34m=\u001b[0m\u001b[0;36m0.001\u001b[0m\u001b[0;34m)\u001b[0m\u001b[0;34m\u001b[0m\u001b[0m\n\u001b[0m",
      "\u001b[0;32m<ipython-input-161-6bcbf864a4ef>\u001b[0m in \u001b[0;36mplot_boundary\u001b[0;34m(data, regularizer, h, support_x, support_y, kernel_type, margin)\u001b[0m\n\u001b[1;32m     78\u001b[0m     \u001b[0mplt\u001b[0m\u001b[0;34m.\u001b[0m\u001b[0mplot\u001b[0m\u001b[0;34m(\u001b[0m\u001b[0mx_axis\u001b[0m\u001b[0;34m,\u001b[0m \u001b[0my_val\u001b[0m\u001b[0;34m,\u001b[0m \u001b[0;34m\"-o\"\u001b[0m\u001b[0;34m,\u001b[0m \u001b[0mlabel\u001b[0m\u001b[0;34m=\u001b[0m\u001b[0;34m\"boundary\"\u001b[0m\u001b[0;34m)\u001b[0m\u001b[0;34m\u001b[0m\u001b[0m\n\u001b[1;32m     79\u001b[0m     \u001b[0mplt\u001b[0m\u001b[0;34m.\u001b[0m\u001b[0mlegend\u001b[0m\u001b[0;34m(\u001b[0m\u001b[0;34m)\u001b[0m\u001b[0;34m\u001b[0m\u001b[0m\n\u001b[0;32m---> 80\u001b[0;31m     \u001b[0;32mreturn\u001b[0m \u001b[0mg_x\u001b[0m\u001b[0;34m[\u001b[0m\u001b[0;36m0\u001b[0m\u001b[0;34m]\u001b[0m\u001b[0;34m\u001b[0m\u001b[0m\n\u001b[0m",
      "\u001b[0;31mTypeError\u001b[0m: 'Add' object does not support indexing"
     ]
    },
    {
     "data": {
      "image/png": "[encoded data removed]",
      "text/plain": [
       "<matplotlib.figure.Figure at 0x7f01410885f8>"
      ]
     },
     "metadata": {},
     "output_type": "display_data"
    }
   ],
   "source": [
    "g_x = plot_boundary(data, support_x=(-10, 10), support_y=(-5, 5), margin=0.0001, h=0.01, regularizer=0.001)"
   ]
  },
  {
   "cell_type": "code",
   "execution_count": 164,
   "metadata": {},
   "outputs": [
    {
     "data": {
      "text/plain": [
       "-7.42733727710727*2.71828182845905**(-100.0*(x - 1.03911348931484)**2 - 100.0*(y - 0.992069377706714)**2) + 7.34159305793046*2.71828182845905**(-100.0*(x - 1.02306611350864)**2 - 100.0*(y - 1.0269891222759)**2) + 1.63980841396355*2.71828182845905**(-100.0*(x - 0.916753828819499)**2 - 100.0*(y - 0.87865195299489)**2) - 7.47779086590009*2.71828182845905**(-100.0*(x - 0.851131711951232)**2 - 100.0*(y - 0.628741534930132)**2) - 13.862464957081*2.71828182845905**(-100.0*(x - 0.850155738550236)**2 - 100.0*(y - 0.71743714938783)**2) + 18.3732235698294*2.71828182845905**(-100.0*(x - 0.833134412150436)**2 - 100.0*(y - 0.686319450159334)**2) + 1.68131301700815*2.71828182845905**(-100.0*(x - 0.684871815355804)**2 - 100.0*(y - 0.511419310730718)**2) - 1.78070901261934*2.71828182845905**(-100.0*(x - 0.654060679318883)**2 - 100.0*(y - 0.416739801679347)**2) - 0.574390361751245*2.71828182845905**(-100.0*(x - 0.653188302398626)**2 - 100.0*(y - 0.291249999147871)**2) - 2.34532470515311*2.71828182845905**(-100.0*(x - 0.557824390907406)**2 - 100.0*(y - 0.243694594120341)**2) + 2.50184592355143*2.71828182845905**(-100.0*(x - 0.539325341977271)**2 - 100.0*(y - 0.312710481171815)**2) + 0.427985700171809*2.71828182845905**(-100.0*(x - 0.533797815020925)**2 - 100.0*(y - 0.400018515170024)**2) - 1.64555941317247*2.71828182845905**(-100.0*(x - 0.421976688838939)**2 - 100.0*(y - 0.0730397505919713)**2) + 2.36438281594605*2.71828182845905**(-100.0*(x - 0.384269092370149)**2 - 100.0*(y - 0.148255464087589)**2) - 0.998485460821383*2.71828182845905**(-100.0*(x - 0.343722920975912)**2 - 100.0*(y - 0.0298439162370161)**2) - 0.797407724037178*2.71828182845905**(-100.0*(x - 0.325896086741758)**2 - 100.0*(y - 0.163938175806197)**2) + 1.30248388985543*2.71828182845905**(-100.0*(x - 0.261069662663937)**2 - 100.0*(y - 0.105090732293579)**2) + 0.713715606154621*2.71828182845905**(-100.0*(x - 0.084626980240976)**2 - 100.0*(y - 0.0968755798298566)**2) + 0.354725100294491*2.71828182845905**(-100.0*(x - 0.0806052302466941)**2 - 100.0*(y + 0.000173339151038954)**2) - 6.90248397181017*2.71828182845905**(-100.0*(x - 0.0110881454298708)**2 - 100.0*(y + 0.00378741942360278)**2) + 8.93367558191685*2.71828182845905**(-100.0*(x + 0.0144464755676506)**2 - 100.0*(y - 0.041193000912913)**2) - 3.67486140383897*2.71828182845905**(-100.0*(x + 0.032998837945308)**2 - 100.0*(y - 0.0850880052235695)**2) + 0.473657715272485*2.71828182845905**(-100.0*(x + 0.0571098819634512)**2 - 100.0*(y + 0.050402619911697)**2) - 1.27997872100081*2.71828182845905**(-100.0*(x + 0.131476299326199)**2 - 100.0*(y + 0.0222989684752398)**2) - 0.498847412398193*2.71828182845905**(-100.0*(x + 0.230481626645765)**2 - 100.0*(y + 0.0233556808373916)**2) + 2.02926329818544*2.71828182845905**(-100.0*(x + 0.314909207621733)**2 - 100.0*(y - 0.0988869856105253)**2) - 1.47389169921269*2.71828182845905**(-100.0*(x + 0.315934774553998)**2 - 100.0*(y - 0.178905149225974)**2) + 1.86711250163798*2.71828182845905**(-100.0*(x + 0.31837259147344)**2 - 100.0*(y - 0.220623871610538)**2) - 1.52022190275789*2.71828182845905**(-100.0*(x + 0.358184325787405)**2 - 100.0*(y - 0.00871993149767555)**2) - 0.652589417790437*2.71828182845905**(-100.0*(x + 0.485781023890672)**2 - 100.0*(y - 0.0805195432289814)**2) - 3.57617909626143*2.71828182845905**(-100.0*(x + 0.491181521196152)**2 - 100.0*(y - 0.23824918440662)**2) + 3.64175743923933*2.71828182845905**(-100.0*(x + 0.492434552120852)**2 - 100.0*(y - 0.293438514513673)**2) + 0.763569968926353*2.71828182845905**(-100.0*(x + 0.539640560177809)**2 - 100.0*(y - 0.360727422565886)**2) - 1.55055646308006*2.71828182845905**(-100.0*(x + 0.606121219517015)**2 - 100.0*(y - 0.312633894057192)**2) + 1.17515950245985*2.71828182845905**(-100.0*(x + 0.620037341109682)**2 - 100.0*(y - 0.558033788474083)**2) - 0.950920156601009*2.71828182845905**(-100.0*(x + 0.647554133812243)**2 - 100.0*(y - 0.419683667525122)**2) - 2.04312452751788*2.71828182845905**(-100.0*(x + 0.801053910457251)**2 - 100.0*(y - 0.574891108417858)**2) + 3.65905471440923*2.71828182845905**(-100.0*(x + 0.806869694170243)**2 - 100.0*(y - 0.681422231883537)**2) - 3.49767271309275*2.71828182845905**(-100.0*(x + 0.841465977611534)**2 - 100.0*(y - 0.745355620444076)**2) + 1.8400313835611*2.71828182845905**(-100.0*(x + 0.911344419682924)**2 - 100.0*(y - 0.842531644119182)**2) - 1.65465882047152*2.71828182845905**(-100.0*(x + 0.985426800562749)**2 - 100.0*(y - 0.992955698057792)**2) + 1.57225968849583*2.71828182845905**(-100.0*(x + 0.998551957458544)**2 - 100.0*(y - 1.0948979992171)**2)"
      ]
     },
     "execution_count": 164,
     "metadata": {},
     "output_type": "execute_result"
    }
   ],
   "source": [
    "x = Symbol('x')\n",
    "y = Symbol('y')\n",
    "g_x.subs([(x, 0.25), (y, 0)])"
   ]
  },
  {
   "cell_type": "code",
   "execution_count": 103,
   "metadata": {},
   "outputs": [],
   "source": [
    "from math import e\n",
    "k = np.array([[1, e**-1, e**-2, e**-3], [e**-1, 1, e**-3, e**-2], [e**-2, e**-3, 1, e**-1], \\\n",
    "             [e**-3, e**-2, e**-1, 1]])"
   ]
  },
  {
   "cell_type": "code",
   "execution_count": 104,
   "metadata": {},
   "outputs": [],
   "source": [
    "inverse = np.linalg.inv(k + 0.01*np.identity(4))"
   ]
  },
  {
   "cell_type": "code",
   "execution_count": 105,
   "metadata": {},
   "outputs": [],
   "source": [
    "coeff = np.matmul(inverse, np.array([1, 1, -1, -1]).reshape(-1, 1))"
   ]
  },
  {
   "cell_type": "code",
   "execution_count": 106,
   "metadata": {},
   "outputs": [
    {
     "data": {
      "text/plain": [
       "array([[ 0.83839368],\n",
       "       [ 0.83839368],\n",
       "       [-0.83839368],\n",
       "       [-0.83839368]])"
      ]
     },
     "execution_count": 106,
     "metadata": {},
     "output_type": "execute_result"
    }
   ],
   "source": [
    "coeff"
   ]
  },
  {
   "cell_type": "code",
   "execution_count": 107,
   "metadata": {},
   "outputs": [
    {
     "data": {
      "text/plain": [
       "0.838393675247869*2.71828182845905**(-(x - 2)**2 - (y - 1)**2) - 0.838393675247869*2.71828182845905**(-(x - 2)**2 - (y + 1)**2) + 0.838393675247869*2.71828182845905**(-(x - 1)**2 - (y - 1)**2) - 0.838393675247869*2.71828182845905**(-(x - 1)**2 - (y + 1)**2)"
      ]
     },
     "execution_count": 107,
     "metadata": {},
     "output_type": "execute_result"
    }
   ],
   "source": [
    "x = Symbol('x')\n",
    "y = Symbol('y')\n",
    "g_x = 0\n",
    "g_x = coeff[0]*e**-((x-1)**2 + (y-1)**2) + coeff[1]*e**-((x-2)**2 + (y-1)**2) + \\\n",
    "coeff[2]*e**-((x-1)**2 + (y+1)**2) + coeff[3]*e**-((x-2)**2 + (y+1)**2)\n",
    "g_x = g_x[0]\n",
    "g_x"
   ]
  },
  {
   "cell_type": "code",
   "execution_count": 165,
   "metadata": {},
   "outputs": [
    {
     "data": {
      "text/plain": [
       "-7.42733727710727*2.71828182845905**(-100.0*(x - 1.03911348931484)**2 - 100.0*(y - 0.992069377706714)**2) + 7.34159305793046*2.71828182845905**(-100.0*(x - 1.02306611350864)**2 - 100.0*(y - 1.0269891222759)**2) + 1.63980841396355*2.71828182845905**(-100.0*(x - 0.916753828819499)**2 - 100.0*(y - 0.87865195299489)**2) - 7.47779086590009*2.71828182845905**(-100.0*(x - 0.851131711951232)**2 - 100.0*(y - 0.628741534930132)**2) - 13.862464957081*2.71828182845905**(-100.0*(x - 0.850155738550236)**2 - 100.0*(y - 0.71743714938783)**2) + 18.3732235698294*2.71828182845905**(-100.0*(x - 0.833134412150436)**2 - 100.0*(y - 0.686319450159334)**2) + 1.68131301700815*2.71828182845905**(-100.0*(x - 0.684871815355804)**2 - 100.0*(y - 0.511419310730718)**2) - 1.78070901261934*2.71828182845905**(-100.0*(x - 0.654060679318883)**2 - 100.0*(y - 0.416739801679347)**2) - 0.574390361751245*2.71828182845905**(-100.0*(x - 0.653188302398626)**2 - 100.0*(y - 0.291249999147871)**2) - 2.34532470515311*2.71828182845905**(-100.0*(x - 0.557824390907406)**2 - 100.0*(y - 0.243694594120341)**2) + 2.50184592355143*2.71828182845905**(-100.0*(x - 0.539325341977271)**2 - 100.0*(y - 0.312710481171815)**2) + 0.427985700171809*2.71828182845905**(-100.0*(x - 0.533797815020925)**2 - 100.0*(y - 0.400018515170024)**2) - 1.64555941317247*2.71828182845905**(-100.0*(x - 0.421976688838939)**2 - 100.0*(y - 0.0730397505919713)**2) + 2.36438281594605*2.71828182845905**(-100.0*(x - 0.384269092370149)**2 - 100.0*(y - 0.148255464087589)**2) - 0.998485460821383*2.71828182845905**(-100.0*(x - 0.343722920975912)**2 - 100.0*(y - 0.0298439162370161)**2) - 0.797407724037178*2.71828182845905**(-100.0*(x - 0.325896086741758)**2 - 100.0*(y - 0.163938175806197)**2) + 1.30248388985543*2.71828182845905**(-100.0*(x - 0.261069662663937)**2 - 100.0*(y - 0.105090732293579)**2) + 0.713715606154621*2.71828182845905**(-100.0*(x - 0.084626980240976)**2 - 100.0*(y - 0.0968755798298566)**2) + 0.354725100294491*2.71828182845905**(-100.0*(x - 0.0806052302466941)**2 - 100.0*(y + 0.000173339151038954)**2) - 6.90248397181017*2.71828182845905**(-100.0*(x - 0.0110881454298708)**2 - 100.0*(y + 0.00378741942360278)**2) + 8.93367558191685*2.71828182845905**(-100.0*(x + 0.0144464755676506)**2 - 100.0*(y - 0.041193000912913)**2) - 3.67486140383897*2.71828182845905**(-100.0*(x + 0.032998837945308)**2 - 100.0*(y - 0.0850880052235695)**2) + 0.473657715272485*2.71828182845905**(-100.0*(x + 0.0571098819634512)**2 - 100.0*(y + 0.050402619911697)**2) - 1.27997872100081*2.71828182845905**(-100.0*(x + 0.131476299326199)**2 - 100.0*(y + 0.0222989684752398)**2) - 0.498847412398193*2.71828182845905**(-100.0*(x + 0.230481626645765)**2 - 100.0*(y + 0.0233556808373916)**2) + 2.02926329818544*2.71828182845905**(-100.0*(x + 0.314909207621733)**2 - 100.0*(y - 0.0988869856105253)**2) - 1.47389169921269*2.71828182845905**(-100.0*(x + 0.315934774553998)**2 - 100.0*(y - 0.178905149225974)**2) + 1.86711250163798*2.71828182845905**(-100.0*(x + 0.31837259147344)**2 - 100.0*(y - 0.220623871610538)**2) - 1.52022190275789*2.71828182845905**(-100.0*(x + 0.358184325787405)**2 - 100.0*(y - 0.00871993149767555)**2) - 0.652589417790437*2.71828182845905**(-100.0*(x + 0.485781023890672)**2 - 100.0*(y - 0.0805195432289814)**2) - 3.57617909626143*2.71828182845905**(-100.0*(x + 0.491181521196152)**2 - 100.0*(y - 0.23824918440662)**2) + 3.64175743923933*2.71828182845905**(-100.0*(x + 0.492434552120852)**2 - 100.0*(y - 0.293438514513673)**2) + 0.763569968926353*2.71828182845905**(-100.0*(x + 0.539640560177809)**2 - 100.0*(y - 0.360727422565886)**2) - 1.55055646308006*2.71828182845905**(-100.0*(x + 0.606121219517015)**2 - 100.0*(y - 0.312633894057192)**2) + 1.17515950245985*2.71828182845905**(-100.0*(x + 0.620037341109682)**2 - 100.0*(y - 0.558033788474083)**2) - 0.950920156601009*2.71828182845905**(-100.0*(x + 0.647554133812243)**2 - 100.0*(y - 0.419683667525122)**2) - 2.04312452751788*2.71828182845905**(-100.0*(x + 0.801053910457251)**2 - 100.0*(y - 0.574891108417858)**2) + 3.65905471440923*2.71828182845905**(-100.0*(x + 0.806869694170243)**2 - 100.0*(y - 0.681422231883537)**2) - 3.49767271309275*2.71828182845905**(-100.0*(x + 0.841465977611534)**2 - 100.0*(y - 0.745355620444076)**2) + 1.8400313835611*2.71828182845905**(-100.0*(x + 0.911344419682924)**2 - 100.0*(y - 0.842531644119182)**2) - 1.65465882047152*2.71828182845905**(-100.0*(x + 0.985426800562749)**2 - 100.0*(y - 0.992955698057792)**2) + 1.57225968849583*2.71828182845905**(-100.0*(x + 0.998551957458544)**2 - 100.0*(y - 1.0948979992171)**2)"
      ]
     },
     "execution_count": 165,
     "metadata": {},
     "output_type": "execute_result"
    }
   ],
   "source": [
    "g_x.subs({x:1, y:0})"
   ]
  },
  {
   "cell_type": "code",
   "execution_count": null,
   "metadata": {},
   "outputs": [],
   "source": []
  }
 ],
 "metadata": {
  "kernelspec": {
   "display_name": "Python 3",
   "language": "python",
   "name": "python3"
  },
  "language_info": {
   "codemirror_mode": {
    "name": "ipython",
    "version": 3
   },
   "file_extension": ".py",
   "mimetype": "text/x-python",
   "name": "python",
   "nbconvert_exporter": "python",
   "pygments_lexer": "ipython3",
   "version": "3.6.4"
  }
 },
 "nbformat": 4,
 "nbformat_minor": 2
}
